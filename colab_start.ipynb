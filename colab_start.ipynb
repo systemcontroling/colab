{
  "nbformat": 4,
  "nbformat_minor": 0,
  "metadata": {
    "colab": {
      "name": "colab start.ipynb",
      "provenance": [],
      "authorship_tag": "ABX9TyPDD06N38fkOFMhc6eMzWvT",
      "include_colab_link": true
    },
    "kernelspec": {
      "name": "python3",
      "display_name": "Python 3"
    },
    "accelerator": "GPU"
  },
  "cells": [
    {
      "cell_type": "markdown",
      "metadata": {
        "id": "view-in-github",
        "colab_type": "text"
      },
      "source": [
        "<a href=\"https://colab.research.google.com/github/systemcontroling/colab/blob/master/colab_start.ipynb\" target=\"_parent\"><img src=\"https://colab.research.google.com/assets/colab-badge.svg\" alt=\"Open In Colab\"/></a>"
      ]
    },
    {
      "cell_type": "code",
      "metadata": {
        "id": "PE17PbupLYD5",
        "colab_type": "code",
        "colab": {
          "base_uri": "https://localhost:8080/",
          "height": 63
        },
        "outputId": "0e3127c5-6798-4873-c233-4f745fa96672"
      },
      "source": [
        "import cv2\n",
        "import numpy as np\n",
        "import tensorflow as tf"
      ],
      "execution_count": 2,
      "outputs": [
        {
          "output_type": "display_data",
          "data": {
            "text/html": [
              "<p style=\"color: red;\">\n",
              "The default version of TensorFlow in Colab will soon switch to TensorFlow 2.x.<br>\n",
              "We recommend you <a href=\"https://www.tensorflow.org/guide/migrate\" target=\"_blank\">upgrade</a> now \n",
              "or ensure your notebook will continue to use TensorFlow 1.x via the <code>%tensorflow_version 1.x</code> magic:\n",
              "<a href=\"https://colab.research.google.com/notebooks/tensorflow_version.ipynb\" target=\"_blank\">more info</a>.</p>\n"
            ],
            "text/plain": [
              "<IPython.core.display.HTML object>"
            ]
          },
          "metadata": {
            "tags": []
          }
        }
      ]
    },
    {
      "cell_type": "markdown",
      "metadata": {
        "id": "5fdHFXAKr2Iu",
        "colab_type": "text"
      },
      "source": [
        "import numpy, open CV , tensorflow "
      ]
    },
    {
      "cell_type": "code",
      "metadata": {
        "id": "XIGBhl8asnnX",
        "colab_type": "code",
        "colab": {
          "base_uri": "https://localhost:8080/",
          "height": 34
        },
        "outputId": "f63ccd33-ef42-4c13-fcf3-06adefa4e464"
      },
      "source": [
        "hello = tf.constant(\"hello tensorflow\")\n",
        "sess = tf.Session()\n",
        "t=sess.run(hello)\n",
        "print(t)"
      ],
      "execution_count": 3,
      "outputs": [
        {
          "output_type": "stream",
          "text": [
            "b'hello tensorflow'\n"
          ],
          "name": "stdout"
        }
      ]
    },
    {
      "cell_type": "markdown",
      "metadata": {
        "id": "pHH747bq2RgL",
        "colab_type": "text"
      },
      "source": [
        "tensorflow 는 session을 수행해야 정확한 결과를 도출할수 있음\n",
        " "
      ]
    },
    {
      "cell_type": "code",
      "metadata": {
        "id": "wBT3LUfP2QVd",
        "colab_type": "code",
        "colab": {
          "base_uri": "https://localhost:8080/",
          "height": 52
        },
        "outputId": "bcc8a9b8-5044-448c-9452-5825e3956949"
      },
      "source": [
        "a = tf.constant(5)\n",
        "b = tf.constant(8)\n",
        "sum = a+b\n",
        "sum_r = sess.run(sum)\n",
        "print(sum)\n",
        "print(sum_r)"
      ],
      "execution_count": 4,
      "outputs": [
        {
          "output_type": "stream",
          "text": [
            "Tensor(\"add:0\", shape=(), dtype=int32)\n",
            "13\n"
          ],
          "name": "stdout"
        }
      ]
    },
    {
      "cell_type": "markdown",
      "metadata": {
        "id": "MIwtS4OFhuLB",
        "colab_type": "text"
      },
      "source": [
        "session을 실행하지 않을 시 변수의 형태만 출력된다.\n",
        "결과를 보고싶으면 sess.run()을 수행하여 결과를 도출 할수있다. "
      ]
    },
    {
      "cell_type": "markdown",
      "metadata": {
        "id": "8zoUSwwoknKH",
        "colab_type": "text"
      },
      "source": [
        "placeholder 를 사용하여 변수를 사용자 입력에 따라 연산을 가능하게 한다. \n",
        "나중에 딥러닝에서도 사용.(데이더 입력부분에)\n"
      ]
    },
    {
      "cell_type": "code",
      "metadata": {
        "id": "x9urBVON2NMQ",
        "colab_type": "code",
        "colab": {
          "base_uri": "https://localhost:8080/",
          "height": 52
        },
        "outputId": "95518394-fa7d-46d5-9261-3cff59cf9c42"
      },
      "source": [
        "import tensorflow as tf #tensorflow 머신러닝 프레임워크 사용 (#include<> 와 동일)\n",
        "\n",
        "a = tf.placeholder(tf.float32) \n",
        "b = tf.placeholder(tf.float32) # a,b 변수에 지정이 가능한 변수를 설정함. \n",
        "\n",
        "adder_node = a+b # a, b 변수에 대한 합연산을 수행하는 노드를 설정\n",
        "\n",
        "sess = tf.Session()\n",
        "print(sess.run(adder_node, feed_dict= {a: 3, b: 5.6})) # a = 3, b = 5.6을  대입 하였을 때의 연산을 수행한 결과를 보이다.\n",
        "print(sess.run(adder_node, feed_dict= {a: [5, 5 ,6] ,b:[7, 4, 6]}))  # a = [5 , 5, 5] , b = [7 , 4, 6] 을 대입 하였을 때의 연산을 수행한 결과를 출력 한다.\n",
        "\n",
        "mult = adder_node * 10\n",
        "\n",
        "\n",
        "\n",
        "\n",
        "sess.close()"
      ],
      "execution_count": 8,
      "outputs": [
        {
          "output_type": "stream",
          "text": [
            "8.6\n",
            "[12.  9. 12.]\n"
          ],
          "name": "stdout"
        }
      ]
    }
  ]
}