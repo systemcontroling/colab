{
  "nbformat": 4,
  "nbformat_minor": 0,
  "metadata": {
    "colab": {
      "name": "ann_using_mnist_example.ipynb",
      "provenance": [],
      "authorship_tag": "ABX9TyMWlV+E0lMJjYxYX0jLkH8z",
      "include_colab_link": true
    },
    "kernelspec": {
      "name": "python3",
      "display_name": "Python 3"
    },
    "accelerator": "GPU"
  },
  "cells": [
    {
      "cell_type": "markdown",
      "metadata": {
        "id": "view-in-github",
        "colab_type": "text"
      },
      "source": [
        "<a href=\"https://colab.research.google.com/github/systemcontroling/colab/blob/master/ann_using_mnist_example.ipynb\" target=\"_parent\"><img src=\"https://colab.research.google.com/assets/colab-badge.svg\" alt=\"Open In Colab\"/></a>"
      ]
    },
    {
      "cell_type": "code",
      "metadata": {
        "id": "dxtdSVSUA0a_",
        "colab_type": "code",
        "colab": {}
      },
      "source": [
        "import tensorflow as tf\n",
        "import numpy as np"
      ],
      "execution_count": 0,
      "outputs": []
    },
    {
      "cell_type": "code",
      "metadata": {
        "id": "JwNPVW6KCDcI",
        "colab_type": "code",
        "colab": {
          "base_uri": "https://localhost:8080/",
          "height": 92
        },
        "outputId": "d02f349a-39bf-4204-e95d-3f12ff2b38cd"
      },
      "source": [
        "from tensorflow.examples.tutorials.mnist import input_data\n",
        "mnist =input_data.read_data_sets(\"/tmp/data/\", one_hot = True)"
      ],
      "execution_count": 16,
      "outputs": [
        {
          "output_type": "stream",
          "text": [
            "Extracting /tmp/data/train-images-idx3-ubyte.gz\n",
            "Extracting /tmp/data/train-labels-idx1-ubyte.gz\n",
            "Extracting /tmp/data/t10k-images-idx3-ubyte.gz\n",
            "Extracting /tmp/data/t10k-labels-idx1-ubyte.gz\n"
          ],
          "name": "stdout"
        }
      ]
    },
    {
      "cell_type": "code",
      "metadata": {
        "id": "OFqDQKTtixn-",
        "colab_type": "code",
        "colab": {}
      },
      "source": [
        "learning_rate = 0.001\n",
        "num_epochs = 90\n",
        "batch_size = 256\n",
        "display_step = 1\n",
        "input_size = 784\n",
        "hidden1_size = 128\n",
        "hidden2_size = 128\n",
        "output_size = 10"
      ],
      "execution_count": 0,
      "outputs": []
    },
    {
      "cell_type": "code",
      "metadata": {
        "id": "oDLRgS-alN63",
        "colab_type": "code",
        "colab": {}
      },
      "source": [
        "x =tf.placeholder(tf.float32 ,shape =[None , input_size])\n",
        "y =tf.placeholder(tf.float32 , shape= [None, output_size])"
      ],
      "execution_count": 0,
      "outputs": []
    },
    {
      "cell_type": "code",
      "metadata": {
        "id": "JCPizSRBpHkX",
        "colab_type": "code",
        "colab": {}
      },
      "source": [
        "def bulid_ANN(x):\n",
        "  w1 = tf.Variable(tf.random_normal(shape =[input_size, hidden1_size]))\n",
        "  b1 = tf.Variable(tf.random_normal(shape=[hidden1_size]))\n",
        "  h1_output = tf.matmul(x,w1)+b1\n",
        "  w2 = tf.Variable(tf.random_normal(shape=[hidden1_size ,hidden2_size]))\n",
        "  b2 = tf.Variable(tf.random_normal(shape=[hidden2_size]))\n",
        "  h2_output = tf.matmul(h1_output, w2) + b2\n",
        "  w_output = tf.Variable(tf.random_normal(shape = [hidden2_size, output_size]))\n",
        "  b_output = tf.Variable(tf.random_normal(shape=[output_size]))\n",
        "  logits =tf.matmul(h2_output, w_output)+ b_output\n",
        "  return logits"
      ],
      "execution_count": 0,
      "outputs": []
    },
    {
      "cell_type": "code",
      "metadata": {
        "id": "m9SRfOzB05Rw",
        "colab_type": "code",
        "colab": {}
      },
      "source": [
        "predicted_value = bulid_ANN(x)\n",
        "\n",
        "loss = tf.reduce_mean(tf.nn.softmax_cross_entropy_with_logits(logits =predicted_value, labels=y))\n",
        "train_step = tf.train.AdamOptimizer(learning_rate = learning_rate).minimize(loss)"
      ],
      "execution_count": 0,
      "outputs": []
    },
    {
      "cell_type": "code",
      "metadata": {
        "id": "_QVkqYC_3lg4",
        "colab_type": "code",
        "colab": {
          "base_uri": "https://localhost:8080/",
          "height": 1000
        },
        "outputId": "598b3c36-e023-448b-bad8-91e95f98ba58"
      },
      "source": [
        "with tf.Session() as sess:\n",
        "  sess.run(tf.global_variables_initializer())\n",
        "\n",
        "  for epoch in range(num_epochs):\n",
        "    averge_loss = 0\n",
        "    total_batch = int(mnist.train.num_examples/batch_size)\n",
        "   \n",
        "    for i in range(total_batch):\n",
        "      batch_x, batch_y = mnist.train.next_batch(batch_size)\n",
        "      _,current_loss = sess.run([train_step,loss], feed_dict={x: batch_x , y: batch_y})\n",
        "      averge_loss += current_loss/total_batch\n",
        "    \n",
        "    if epoch %display_step == 0:\n",
        "      print(\"반복(epochs):%d ,손실함수(loss):%f\"% ((epoch+1),averge_loss))\n",
        "  correct_prediction = tf.equal(tf.argmax(predicted_value, 1), tf.argmax(y,1))\n",
        "  accuracy =tf.reduce_mean(tf.cast(correct_prediction, \"float\"))\n",
        "  print(\"정확도(Accuracy): %f\" % (accuracy.eval(feed_dict={x: mnist.test.images, y: mnist.test.labels})))"
      ],
      "execution_count": 21,
      "outputs": [
        {
          "output_type": "stream",
          "text": [
            "반복(epochs):1 ,손실함수(loss):409.710197\n",
            "반복(epochs):2 ,손실함수(loss):88.277476\n",
            "반복(epochs):3 ,손실함수(loss):60.726571\n",
            "반복(epochs):4 ,손실함수(loss):47.073549\n",
            "반복(epochs):5 ,손실함수(loss):39.264134\n",
            "반복(epochs):6 ,손실함수(loss):33.927854\n",
            "반복(epochs):7 ,손실함수(loss):29.275841\n",
            "반복(epochs):8 ,손실함수(loss):26.085517\n",
            "반복(epochs):9 ,손실함수(loss):23.142967\n",
            "반복(epochs):10 ,손실함수(loss):20.741378\n",
            "반복(epochs):11 ,손실함수(loss):18.736192\n",
            "반복(epochs):12 ,손실함수(loss):17.066506\n",
            "반복(epochs):13 ,손실함수(loss):15.778936\n",
            "반복(epochs):14 ,손실함수(loss):14.248354\n",
            "반복(epochs):15 ,손실함수(loss):13.182885\n",
            "반복(epochs):16 ,손실함수(loss):12.140532\n",
            "반복(epochs):17 ,손실함수(loss):11.145916\n",
            "반복(epochs):18 ,손실함수(loss):10.653070\n",
            "반복(epochs):19 ,손실함수(loss):9.827573\n",
            "반복(epochs):20 ,손실함수(loss):9.487988\n",
            "반복(epochs):21 ,손실함수(loss):8.794134\n",
            "반복(epochs):22 ,손실함수(loss):8.136541\n",
            "반복(epochs):23 ,손실함수(loss):7.616344\n",
            "반복(epochs):24 ,손실함수(loss):7.212231\n",
            "반복(epochs):25 ,손실함수(loss):6.819383\n",
            "반복(epochs):26 ,손실함수(loss):6.458432\n",
            "반복(epochs):27 ,손실함수(loss):6.153770\n",
            "반복(epochs):28 ,손실함수(loss):5.955203\n",
            "반복(epochs):29 ,손실함수(loss):5.612849\n",
            "반복(epochs):30 ,손실함수(loss):5.390458\n",
            "반복(epochs):31 ,손실함수(loss):5.065024\n",
            "반복(epochs):32 ,손실함수(loss):5.129497\n",
            "반복(epochs):33 ,손실함수(loss):4.714869\n",
            "반복(epochs):34 ,손실함수(loss):4.571755\n",
            "반복(epochs):35 ,손실함수(loss):4.361299\n",
            "반복(epochs):36 ,손실함수(loss):4.256008\n",
            "반복(epochs):37 ,손실함수(loss):4.096303\n",
            "반복(epochs):38 ,손실함수(loss):3.926213\n",
            "반복(epochs):39 ,손실함수(loss):3.814271\n",
            "반복(epochs):40 ,손실함수(loss):3.650947\n",
            "반복(epochs):41 ,손실함수(loss):3.631827\n",
            "반복(epochs):42 ,손실함수(loss):3.384541\n",
            "반복(epochs):43 ,손실함수(loss):3.350559\n",
            "반복(epochs):44 ,손실함수(loss):3.205255\n",
            "반복(epochs):45 ,손실함수(loss):3.131533\n",
            "반복(epochs):46 ,손실함수(loss):3.119261\n",
            "반복(epochs):47 ,손실함수(loss):3.044786\n",
            "반복(epochs):48 ,손실함수(loss):3.098195\n",
            "반복(epochs):49 ,손실함수(loss):2.820783\n",
            "반복(epochs):50 ,손실함수(loss):2.806786\n",
            "반복(epochs):51 ,손실함수(loss):2.738381\n",
            "반복(epochs):52 ,손실함수(loss):2.657040\n",
            "반복(epochs):53 ,손실함수(loss):2.588960\n",
            "반복(epochs):54 ,손실함수(loss):2.622535\n",
            "반복(epochs):55 ,손실함수(loss):2.494288\n",
            "반복(epochs):56 ,손실함수(loss):2.575392\n",
            "반복(epochs):57 ,손실함수(loss):2.454189\n",
            "반복(epochs):58 ,손실함수(loss):2.511015\n",
            "반복(epochs):59 ,손실함수(loss):2.330441\n",
            "반복(epochs):60 ,손실함수(loss):2.340320\n",
            "반복(epochs):61 ,손실함수(loss):2.329330\n",
            "반복(epochs):62 ,손실함수(loss):2.260572\n",
            "반복(epochs):63 ,손실함수(loss):2.255873\n",
            "반복(epochs):64 ,손실함수(loss):2.146416\n",
            "반복(epochs):65 ,손실함수(loss):2.163674\n",
            "반복(epochs):66 ,손실함수(loss):2.136987\n",
            "반복(epochs):67 ,손실함수(loss):2.150002\n",
            "반복(epochs):68 ,손실함수(loss):2.047073\n",
            "반복(epochs):69 ,손실함수(loss):2.085909\n",
            "반복(epochs):70 ,손실함수(loss):2.075381\n",
            "반복(epochs):71 ,손실함수(loss):1.995052\n",
            "반복(epochs):72 ,손실함수(loss):2.010529\n",
            "반복(epochs):73 ,손실함수(loss):1.947207\n",
            "반복(epochs):74 ,손실함수(loss):1.991593\n",
            "반복(epochs):75 ,손실함수(loss):1.988751\n",
            "반복(epochs):76 ,손실함수(loss):1.868456\n",
            "반복(epochs):77 ,손실함수(loss):1.922460\n",
            "반복(epochs):78 ,손실함수(loss):1.843168\n",
            "반복(epochs):79 ,손실함수(loss):1.883568\n",
            "반복(epochs):80 ,손실함수(loss):1.846949\n",
            "반복(epochs):81 ,손실함수(loss):1.850050\n",
            "반복(epochs):82 ,손실함수(loss):1.828156\n",
            "반복(epochs):83 ,손실함수(loss):1.813851\n",
            "반복(epochs):84 ,손실함수(loss):1.724815\n",
            "반복(epochs):85 ,손실함수(loss):1.784461\n",
            "반복(epochs):86 ,손실함수(loss):1.707411\n",
            "반복(epochs):87 ,손실함수(loss):1.768130\n",
            "반복(epochs):88 ,손실함수(loss):1.676662\n",
            "반복(epochs):89 ,손실함수(loss):1.704110\n",
            "반복(epochs):90 ,손실함수(loss):1.719571\n",
            "정확도(Accuracy): 0.883500\n"
          ],
          "name": "stdout"
        }
      ]
    }
  ]
}