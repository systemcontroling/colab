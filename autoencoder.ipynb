{
  "nbformat": 4,
  "nbformat_minor": 0,
  "metadata": {
    "colab": {
      "name": "autoencoder.ipynb",
      "provenance": [],
      "authorship_tag": "ABX9TyNMJzHT3HdJv3f2dXXOEmph",
      "include_colab_link": true
    },
    "kernelspec": {
      "name": "python3",
      "display_name": "Python 3"
    },
    "accelerator": "GPU"
  },
  "cells": [
    {
      "cell_type": "markdown",
      "metadata": {
        "id": "view-in-github",
        "colab_type": "text"
      },
      "source": [
        "<a href=\"https://colab.research.google.com/github/systemcontroling/colab_project/blob/master/autoencoder.ipynb\" target=\"_parent\"><img src=\"https://colab.research.google.com/assets/colab-badge.svg\" alt=\"Open In Colab\"/></a>"
      ]
    },
    {
      "cell_type": "markdown",
      "metadata": {
        "id": "3wPnjVHqwd5o",
        "colab_type": "text"
      },
      "source": [
        "Auto_encoder는 대표적인 비지도 학습으로 지도학습과는 다르게 데이터의 숨겨진 구조를 찾는 과정이다."
      ]
    },
    {
      "cell_type": "code",
      "metadata": {
        "id": "-HvbCyFiqmiq",
        "colab_type": "code",
        "colab": {}
      },
      "source": [
        "import tensorflow as tf #tensorflow import 머신러닝 프레임 워크\n",
        "import numpy as np  # numpy import \n",
        "import matplotlib.pyplot as plt #matplotilb import"
      ],
      "execution_count": 0,
      "outputs": []
    },
    {
      "cell_type": "code",
      "metadata": {
        "id": "v1n-j-8MwSS-",
        "colab_type": "code",
        "colab": {
          "base_uri": "https://localhost:8080/",
          "height": 92
        },
        "outputId": "3429e555-7a5c-4b13-f560-85b53740e00e"
      },
      "source": [
        "from tensorflow.examples.tutorials.mnist import input_data\n",
        "mnist = input_data.read_data_sets(\"/tmp/data/\", one_hot = True)"
      ],
      "execution_count": 7,
      "outputs": [
        {
          "output_type": "stream",
          "text": [
            "Extracting /tmp/data/train-images-idx3-ubyte.gz\n",
            "Extracting /tmp/data/train-labels-idx1-ubyte.gz\n",
            "Extracting /tmp/data/t10k-images-idx3-ubyte.gz\n",
            "Extracting /tmp/data/t10k-labels-idx1-ubyte.gz\n"
          ],
          "name": "stdout"
        }
      ]
    },
    {
      "cell_type": "code",
      "metadata": {
        "id": "54KofiGunPxl",
        "colab_type": "code",
        "colab": {}
      },
      "source": [
        "learning_rate = 0.03\n",
        "training_epochs = 50\n",
        "batch_size =256\n",
        "display_step =1\n",
        "example_to_show = 10\n",
        "input_size = 784 #28*28\n",
        "hidden1_size = 256\n",
        "hidden2_size = 128"
      ],
      "execution_count": 0,
      "outputs": []
    },
    {
      "cell_type": "code",
      "metadata": {
        "id": "gH2yukfbswBo",
        "colab_type": "code",
        "colab": {}
      },
      "source": [
        "x = tf.placeholder(tf.float32, shape = [None , input_size])\n",
        "#unsupervised learning은  Label를 지정해주지 않는다.(필요없음))"
      ],
      "execution_count": 0,
      "outputs": []
    },
    {
      "cell_type": "code",
      "metadata": {
        "id": "Pz_Ryk0Xtic4",
        "colab_type": "code",
        "colab": {
          "base_uri": "https://localhost:8080/",
          "height": 1000
        },
        "outputId": "fc9da7d8-e412-480b-cd46-e4b02e94a7b4"
      },
      "source": [
        "def builed_autoencoder(x):\n",
        "  w1 = tf.Variable(tf.random_normal(shape = [input_size ,hidden1_size]))\n",
        "  b1 = tf.Variable(tf.random_normal(shape =[hidden1_size]))\n",
        "  h1_output = tf.nn.sigmoid(tf.matmul(x, w1)+ b1)\n",
        "  w2 = tf.Variable(tf.random_normal(shape = [hidden1_size, hidden2_size]))\n",
        "  b2 = tf.Variable(tf.random_normal(shape =[hidden2_size]))\n",
        "  h2_output = tf.nn.sigmoid(tf.matmul(h1_output, w2)+b2)\n",
        "  w3 = tf.Variable(tf.random_normal(shape = [hidden2_size, hidden1_size]))\n",
        "  b3 = tf.Variable(tf.random_normal(shape=[hidden1_size]))\n",
        "  h3_output = tf.nn.sigmoid(tf.matmul(h2_output, w3)+b3)\n",
        "  w4  =tf.Variable(tf.random_normal(shape = [hidden1_size, input_size]))\n",
        "  b4 = tf.Variable(tf.random_normal(shape=[input_size]))\n",
        "  reconstructed = tf.nn.sigmoid(tf.matmul(h3_output , w4)+b4)\n",
        "\n",
        "  return reconstructed\n",
        "\n",
        "y_pred = builed_autoencoder(x)\n",
        "y_ture = x\n",
        "\n",
        "loss = tf.reduce_mean(tf.pow(y_ture -y_pred, 2))\n",
        "train_step = tf.train.RMSPropOptimizer(learning_rate).minimize(loss)\n",
        "\n",
        "with tf.Session() as sess:\n",
        "  sess.run(tf.global_variables_initializer())\n",
        "\n",
        "  for epoch in range(training_epochs):\n",
        "    total_batch = int(mnist.train.num_examples/batch_size)\n",
        "    for i in range(total_batch):\n",
        "      batch_xs, batch_ys = mnist.train.next_batch(batch_size)\n",
        "      _,current_loss = sess.run([train_step, loss], feed_dict ={x:batch_xs})\n",
        "    if epoch %display_step == 0:\n",
        "       print(\"반복(epochs):%d,손실함수(loss):%f\" %((epoch+1), current_loss))\n",
        "\n",
        "  reconstructed_result = sess.run(y_pred, feed_dict ={x:mnist.test.images [:example_to_show]})\n",
        "  f,a =plt.subplots(2, 10, figsize=(10,2))\n",
        "  for i in range(example_to_show):\n",
        "    a[0][i].imshow(np.reshape(mnist.test.images[i],(28,28)))\n",
        "    a[1][i].imshow(np.reshape(reconstructed_result[i],(28,28)))\n",
        "  f.savefig('reconstrutedz_mnist_result.png')\n",
        "\n",
        "  #f.show()\n",
        "  #plt.draw()\n",
        "  #plt.waitforbuttonpress()"
      ],
      "execution_count": 10,
      "outputs": [
        {
          "output_type": "stream",
          "text": [
            "반복(epochs):1,손실함수(loss):0.191171\n",
            "반복(epochs):2,손실함수(loss):0.117967\n",
            "반복(epochs):3,손실함수(loss):0.094430\n",
            "반복(epochs):4,손실함수(loss):0.084910\n",
            "반복(epochs):5,손실함수(loss):0.067534\n",
            "반복(epochs):6,손실함수(loss):0.068738\n",
            "반복(epochs):7,손실함수(loss):0.063133\n",
            "반복(epochs):8,손실함수(loss):0.059702\n",
            "반복(epochs):9,손실함수(loss):0.058426\n",
            "반복(epochs):10,손실함수(loss):0.056436\n",
            "반복(epochs):11,손실함수(loss):0.053047\n",
            "반복(epochs):12,손실함수(loss):0.055049\n",
            "반복(epochs):13,손실함수(loss):0.053959\n",
            "반복(epochs):14,손실함수(loss):0.050008\n",
            "반복(epochs):15,손실함수(loss):0.051883\n",
            "반복(epochs):16,손실함수(loss):0.049596\n",
            "반복(epochs):17,손실함수(loss):0.049478\n",
            "반복(epochs):18,손실함수(loss):0.048695\n",
            "반복(epochs):19,손실함수(loss):0.047949\n",
            "반복(epochs):20,손실함수(loss):0.047215\n",
            "반복(epochs):21,손실함수(loss):0.045080\n",
            "반복(epochs):22,손실함수(loss):0.044415\n",
            "반복(epochs):23,손실함수(loss):0.043723\n",
            "반복(epochs):24,손실함수(loss):0.044330\n",
            "반복(epochs):25,손실함수(loss):0.044750\n",
            "반복(epochs):26,손실함수(loss):0.042990\n",
            "반복(epochs):27,손실함수(loss):0.041774\n",
            "반복(epochs):28,손실함수(loss):0.038881\n",
            "반복(epochs):29,손실함수(loss):0.041935\n",
            "반복(epochs):30,손실함수(loss):0.038609\n",
            "반복(epochs):31,손실함수(loss):0.040763\n",
            "반복(epochs):32,손실함수(loss):0.042021\n",
            "반복(epochs):33,손실함수(loss):0.039446\n",
            "반복(epochs):34,손실함수(loss):0.038922\n",
            "반복(epochs):35,손실함수(loss):0.037249\n",
            "반복(epochs):36,손실함수(loss):0.039291\n",
            "반복(epochs):37,손실함수(loss):0.038291\n",
            "반복(epochs):38,손실함수(loss):0.038589\n",
            "반복(epochs):39,손실함수(loss):0.035012\n",
            "반복(epochs):40,손실함수(loss):0.036154\n",
            "반복(epochs):41,손실함수(loss):0.036935\n",
            "반복(epochs):42,손실함수(loss):0.036168\n",
            "반복(epochs):43,손실함수(loss):0.036953\n",
            "반복(epochs):44,손실함수(loss):0.036610\n",
            "반복(epochs):45,손실함수(loss):0.035888\n",
            "반복(epochs):46,손실함수(loss):0.033967\n",
            "반복(epochs):47,손실함수(loss):0.034453\n",
            "반복(epochs):48,손실함수(loss):0.034460\n",
            "반복(epochs):49,손실함수(loss):0.032456\n",
            "반복(epochs):50,손실함수(loss):0.034306\n"
          ],
          "name": "stdout"
        },
        {
          "output_type": "display_data",
          "data": {
            "image/png": "[encoded data removed]",
            "text/plain": [
              "<Figure size 720x144 with 20 Axes>"
            ]
          },
          "metadata": {
            "tags": []
          }
        }
      ]
    },
    {
      "cell_type": "code",
      "metadata": {
        "id": "LVErLZmtEVQ6",
        "colab_type": "code",
        "colab": {}
      },
      "source": [
        ""
      ],
      "execution_count": 0,
      "outputs": []
    }
  ]
}